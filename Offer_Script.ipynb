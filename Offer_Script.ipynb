{
 "cells": [
  {
   "cell_type": "code",
   "execution_count": null,
   "metadata": {},
   "outputs": [],
   "source": [
    "#Libraries to install: \n",
    "\n",
    "# !pip install snowflake-connector-python\n",
    "# !pip install tableauhyperapi\n",
    "# !pip install tableau-api-lib\n",
    "# !pip install smartsheet-python-sdk\n",
    "# !pip install bcolors"
   ]
  },
  {
   "cell_type": "markdown",
   "metadata": {},
   "source": [
    "# 1. Check pending accounts:"
   ]
  },
  {
   "cell_type": "code",
   "execution_count": null,
   "metadata": {},
   "outputs": [],
   "source": [
    "import os, datetime, glob, pandas as pd, numpy as np, shutil, itertools, snowflake.connector, re, importlib, utils_lib as utils, requests, json, webbrowser#, smartsheet_lib as smartsheet\n",
    "class bcolors:\n",
    "    HEADER = '\\033[95m'\n",
    "    OKBLUE = '\\033[94m'\n",
    "    OKCYAN = '\\033[96m'\n",
    "    OKGREEN = '\\033[92m'\n",
    "    WARNING = '\\033[93m'\n",
    "    FAIL = '\\033[91m'\n",
    "    ENDC = '\\033[0m'\n",
    "    BOLD = '\\033[1m'\n",
    "    UNDERLINE = '\\033[4m'\n",
    "\n",
    "auth_path = r\".\\credentials.json\"\n",
    "auth_path = auth_path.replace(\"\\\\\",\"/\")\n",
    "\n",
    "with open(auth_path) as json_file:\n",
    "    json_credentials = json.load(json_file)\n",
    "    json_file.close()\n",
    "\n",
    "user = json_credentials[\"cisco_tableau\"][\"user\"] # Your Cisco e-mail address\n",
    "cs,cnn = utils.connec_to_sf(user)\n",
    "tableau_template_name = json_credentials[\"paths\"][\"tableau_template_oe_path\"] #twb template name/path\n",
    "ib_file_name = 'IB.csv'\n",
    "coverage_file_name = 'Coverage.csv'\n",
    "sw_file_name = 'SW.csv'\n",
    "sntc_mapping_path = json_credentials[\"paths\"][\"sntc_mapping_path\"]\n",
    "personal_access_token_name = json_credentials[\"cisco_tableau\"][\"access_token_name\"]\n",
    "personal_access_token_secret = json_credentials[\"cisco_tableau\"][\"token\"]\n",
    "\n",
    "check_tableau_log_in=webbrowser.open(\"cisco tableau url\")\n",
    "\n",
    "fields_df = utils.get_OE_pending_requests(user,cs)\n",
    "fields_df[['OE_KEY', 'REQUEST_ID', 'DATE_CREATED', 'ASSIGNED_DA', 'CAMPAIGN_NAME','CUSTOMER_NAME','ID_TYPE', 'SAV_ID', 'CAV_ID','CAV_BU_ID', 'GU_ID', 'LVL1', 'LVL2', 'CONTRACT_ID', 'INVENTORY_NAME','APPLIANCE_ID', 'CR_PARTY_NAME', 'CR_PARTY_ID','DA_COMMENTS', 'STATUS', 'REQUESTER_NAME', 'OP_STATUS', 'DA_ASSIGNED_DATE', 'OP_COMPLETE_DATE','OA_PACKAGE_TYPE', 'OA_URL', 'REJECTED_REASON']]"
   ]
  },
  {
   "cell_type": "markdown",
   "metadata": {},
   "source": [
    "# 2. Data from Snowflake:"
   ]
  },
  {
   "cell_type": "code",
   "execution_count": null,
   "metadata": {},
   "outputs": [],
   "source": [
    "# IDs list for Snowflake (separator must be ',')\n",
    "savs_list,gu_list,cav_list,cr_list = utils.get_ids_list(fields_df,separator=',')\n",
    "\n",
    "# 1) Downloading ib data from snowflake\n",
    "ib_df = utils.get_ib_data(user,savs_list,gu_list,cr_list,cav_list,cs,1)\n",
    "ib_df.loc[:,'Default Service List Price USD':'Asset List Amount'] = ib_df.loc[:,'Default Service List Price USD':'Asset List Amount'].fillna(0)\n",
    "\n",
    "# 2) Downloading Coverage data from snowflake\n",
    "coverage_df = utils.get_coverage_data(user,savs_list,gu_list,cr_list,cav_list,cs,2)\n",
    "coverage_df.loc[:,'Item Quantity':'Annualized Extended Contract Line List USD Amount'] = coverage_df.loc[:,'Item Quantity':'Annualized Extended Contract Line List USD Amount'].fillna(0)\n",
    "\n",
    "# 3) Downloading TAC data from snowflake\n",
    "tac_df = utils.get_tac_df_new(user,savs_list,gu_list,cr_list,cav_list,cs, 3)\n",
    "tac_df[\"BUG_CNT\"] = tac_df[\"BUG_CNT\"].replace(\"\",0.0)\n",
    "tac_df[\"HYBRID_PRODUCT_FAMILY\"] = tac_df['RU_BK_PRODUCT_FAMILY_ID'] # replace column data\n",
    "tac_df.drop(columns='RU_BK_PRODUCT_FAMILY_ID',axis=1,inplace=True)\n",
    "\n",
    "# 4) Downloading DNA data from snowflake\n",
    "dna_df = utils.get_dna_df(user,savs_list,gu_list,cr_list,cav_list,cs, 4)\n",
    "\n",
    "# 5) 6) Downloading EA data from snowflake\n",
    "EA_details_df = utils.get_EA_details_data_(user,savs_list,gu_list,cr_list,cav_list,cs,5)\n",
    "EA_eligibility_df = utils.get_EA_eligibility_data_(user,savs_list,gu_list,cr_list,cav_list,cs,6)\n",
    "\n",
    "# 7) Telemery dataframe from Snowflake (may take a few minutes)\n",
    "telemetry_df = utils.get_telemetry_df2(user,savs_list,gu_list,cr_list,cav_list,cs,7)"
   ]
  },
  {
   "cell_type": "markdown",
   "metadata": {},
   "source": [
    "# 3. Data transformation:"
   ]
  },
  {
   "cell_type": "code",
   "execution_count": null,
   "metadata": {},
   "outputs": [],
   "source": [
    "# ------------------------------------------------------------------------------------------------ data cleaning\n",
    "renew_filtered, coverage_filtered, tac_filtered,telemetry_filtered, dna_filtered, EA_details_filtered, EA_eligibility_filtered = ib_df.copy(), coverage_df.copy(), tac_df.copy(), telemetry_df.copy(), dna_df.copy(), EA_details_df.copy(), EA_eligibility_df.copy()\n",
    "renew_filtered, coverage_filtered, tac_filtered,telemetry_filtered, dna_filtered, EA_details_filtered, EA_eligibility_filtered = utils.oe_data_cleaning(renew_filtered, coverage_filtered, tac_filtered,telemetry_filtered, dna_filtered, EA_details_filtered, EA_eligibility_filtered)\n",
    "\n",
    "# --------------------------------------------------- Creating dataframe with all REQUEST_ID and accounts id\n",
    "\n",
    "savs, gus, cavs, crs, request = utils.split_account_ids(fields_df)\n",
    "\n",
    "# --------------------------------------------------- Adding Request ID and Secret ID columns\n",
    "\n",
    "renew_filtered, coverage_filtered, tac_filtered, telemetry_filtered, dna_filtered, EA_details_filtered, EA_eligibility_filtered = utils.add_OE_KEY(renew_filtered, coverage_filtered, tac_filtered, telemetry_filtered, dna_filtered, EA_details_filtered, EA_eligibility_filtered, request)\n",
    "\n",
    "# --------------------------------------------------- Adapting data\n",
    "\n",
    "renew_filtered, coverage_filtered, tac_filtered, telemetry_filtered, dna_filtered, EA_details_filtered, EA_eligibility_filtered = utils.adapt_OE_data(renew_filtered, coverage_filtered, tac_filtered, telemetry_filtered, dna_filtered, EA_details_filtered, EA_eligibility_filtered)"
   ]
  },
  {
   "cell_type": "code",
   "execution_count": null,
   "metadata": {},
   "outputs": [],
   "source": [
    "#Optional\n",
    "importlib.reload(utils)\n",
    "#pd.options.display.max_columns=99 #To see more columns in the dataframes"
   ]
  },
  {
   "cell_type": "markdown",
   "metadata": {},
   "source": [
    "# QA"
   ]
  },
  {
   "cell_type": "code",
   "execution_count": null,
   "metadata": {},
   "outputs": [],
   "source": [
    "validation_data = utils.ib_values_validation(utils.IB_attributes(renew_filtered,coverage_filtered))\n",
    "validation_data = validation_data.merge(utils.oppty_validation(utils.smartnet_verification(renew_filtered)), how='left', left_on='OE_KEY', right_on='OE_KEY')\n",
    "validation_data = validation_data.merge(utils.lenght_validation(utils.smartnet_total_care_NBD_list_price(renew_filtered)).rename(columns={'Lenght':'Smartnet value lenght'}), how='left', left_on='OE_KEY', right_on='OE_KEY')\n",
    "validation_data = validation_data.merge(utils.lenght_validation(utils.estimated_list_price(renew_filtered)).rename(columns={'Lenght':'Success_L2 value lenght'}), how='left', left_on='OE_KEY', right_on='OE_KEY')\n",
    "validation_data = validation_data.merge(fields_df[['OE_KEY','CUSTOMER_NAME']].astype({'OE_KEY':str}), how='left', left_on='OE_KEY', right_on='OE_KEY')\n",
    "validation_data.loc[:,'OE_KEY':'CUSTOMER_NAME'].style.applymap(lambda x: utils.color_qa(x))"
   ]
  },
  {
   "cell_type": "markdown",
   "metadata": {},
   "source": [
    "# 4. Uploading data into snowflake"
   ]
  },
  {
   "cell_type": "code",
   "execution_count": null,
   "metadata": {},
   "outputs": [],
   "source": [
    "# ------------------------------------------------------------ Uploading dataframes into snowflake\n",
    "\n",
    "# ----------------------------- IB \n",
    "\n",
    "utils.upload_data_to_sf(renew_filtered, user, 'RT_TWB_OE_IB', 'IB',cnn)\n",
    "\n",
    "# ----------------------------- Coverage\n",
    "\n",
    "utils.upload_data_to_sf(coverage_filtered, user, 'RT_TWB_OE_COVERAGE', 'COVERAGE',cnn)\n",
    "\n",
    "# ----------------------------- TAC\n",
    "\n",
    "utils.upload_data_to_sf(tac_filtered, user, 'RT_TWB_OE_TAC', 'TAC',cnn)\n",
    "\n",
    "# ----------------------------- Telemetry\n",
    "\n",
    "utils.upload_data_to_sf(telemetry_filtered, user, 'RT_TWB_OE_TELEMETRY', 'TELEMETRY',cnn)\n",
    "\n",
    "# ----------------------------- DNA\n",
    "\n",
    "utils.upload_data_to_sf(dna_filtered, user, 'RT_TWB_OE_DNA', 'DNA',cnn)\n",
    "\n",
    "# ----------------------------- EA\n",
    "\n",
    "utils.upload_data_to_sf(EA_details_filtered, user, 'RT_TWB_EA_DETAILS', 'EA Details',cnn)\n",
    "utils.upload_data_to_sf(EA_eligibility_filtered, user, 'RT_TWB_EA_ELIGIBILITY', 'EA Eligibility',cnn)"
   ]
  },
  {
   "cell_type": "markdown",
   "metadata": {},
   "source": [
    "# 5. Updating Tracker"
   ]
  },
  {
   "cell_type": "code",
   "execution_count": null,
   "metadata": {},
   "outputs": [],
   "source": [
    "# ------------------------------------------------------------ OP Intake Tracker\n",
    "op_tracker=utils.update_OE_tracker(user, fields_df, renew_filtered, telemetry_filtered)\n",
    "op_tracker[['OE_KEY', 'REQUEST_ID', 'DATE_CREATED', 'ASSIGNED_DA', 'CAMPAIGN_NAME','CUSTOMER_NAME','ID_TYPE', 'SAV_ID', 'CAV_ID','CAV_BU_ID', 'GU_ID', 'LVL1', 'LVL2', 'CONTRACT_ID', 'INVENTORY_NAME','APPLIANCE_ID', 'CR_PARTY_NAME', 'CR_PARTY_ID','DA_COMMENTS', 'STATUS', 'REQUESTER_NAME', 'OP_STATUS', 'DA_ASSIGNED_DATE', 'OP_COMPLETE_DATE','OA_PACKAGE_TYPE', 'OA_URL', 'REJECTED_REASON','UPLOADED_TIME']]"
   ]
  },
  {
   "cell_type": "markdown",
   "metadata": {},
   "source": [
    "# 6. Upload to Compass Request Tracker:"
   ]
  },
  {
   "cell_type": "code",
   "execution_count": null,
   "metadata": {},
   "outputs": [],
   "source": [
    "op_tracker=utils.upload_to_compass_tracker(op_tracker)"
   ]
  },
  {
   "cell_type": "markdown",
   "metadata": {},
   "source": [
    "# 7. Uploading Tracker to Snowflake"
   ]
  },
  {
   "cell_type": "code",
   "execution_count": null,
   "metadata": {},
   "outputs": [],
   "source": [
    "utils.print_smartsheet_data(op_tracker)"
   ]
  },
  {
   "cell_type": "code",
   "execution_count": null,
   "metadata": {},
   "outputs": [],
   "source": [
    "utils.upload_data_to_sf(op_tracker, user, 'RT_OP_INTAKE_REQUEST_DETAILS', 'Tracker',cnn)"
   ]
  },
  {
   "cell_type": "code",
   "execution_count": null,
   "metadata": {},
   "outputs": [],
   "source": [
    "#Optional\n",
    "importlib.reload(utils)\n",
    "#pd.options.display.max_columns=99 #To see more columns in the dataframes"
   ]
  }
 ],
 "metadata": {
  "kernelspec": {
   "display_name": "Python 3",
   "language": "python",
   "name": "python3"
  },
  "language_info": {
   "codemirror_mode": {
    "name": "ipython",
    "version": 3
   },
   "file_extension": ".py",
   "mimetype": "text/x-python",
   "name": "python",
   "nbconvert_exporter": "python",
   "pygments_lexer": "ipython3",
   "version": "3.11.1 (tags/v3.11.1:a7a450f, Dec  6 2022, 19:58:39) [MSC v.1934 64 bit (AMD64)]"
  },
  "vscode": {
   "interpreter": {
    "hash": "7627003e78ead900aec203b185a978fc27a38ee0366c28a11b079a9dcc3d571a"
   }
  }
 },
 "nbformat": 4,
 "nbformat_minor": 4
}
