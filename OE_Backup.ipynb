{
 "cells": [
  {
   "cell_type": "code",
   "execution_count": null,
   "metadata": {},
   "outputs": [],
   "source": [
    "import os, datetime, glob, pandas as pd, numpy as np, shutil, itertools, snowflake.connector, re, importlib, utils_lib as utils, requests, json, webbrowser#, smartsheet_lib as smartsheet\n",
    "class bcolors:\n",
    "    HEADER = '\\033[95m'\n",
    "    OKBLUE = '\\033[94m'\n",
    "    OKCYAN = '\\033[96m'\n",
    "    OKGREEN = '\\033[92m'\n",
    "    WARNING = '\\033[93m'\n",
    "    FAIL = '\\033[91m'\n",
    "    ENDC = '\\033[0m'\n",
    "    BOLD = '\\033[1m'\n",
    "    UNDERLINE = '\\033[4m'\n",
    "\n",
    "auth_path = r\".\\credentials.json\"\n",
    "auth_path = auth_path.replace(\"\\\\\",\"/\")\n",
    "\n",
    "with open(auth_path) as json_file:\n",
    "    json_credentials = json.load(json_file)\n",
    "    json_file.close()\n",
    "\n",
    "user = json_credentials[\"cisco_tableau\"][\"user\"] # Your Cisco e-mail address"
   ]
  },
  {
   "cell_type": "code",
   "execution_count": null,
   "metadata": {},
   "outputs": [],
   "source": [
    "#---------------------------Upload IB to Backup Table---------------------------\n",
    "df=utils.upload_data_to_backup(user,\"RT_TWB_OE_IB\",\"RT_TWB_OE_IB_BKP\",\"IB\")\n",
    "\n",
    "#---------------------------Upload COVERAGE to Backup Table---------------------------\n",
    "df=utils.upload_data_to_backup(user,\"RT_TWB_OE_COVERAGE\",\"RT_TWB_OE_COVERAGE_BKP\",\"COVERAGE\")\n",
    "\n",
    "#---------------------------Upload TAC to Backup Table---------------------------\n",
    "df=utils.upload_data_to_backup(user,\"RT_TWB_OE_TAC\",\"RT_TWB_OE_TAC_BKP\",\"TAC\")\n",
    "\n",
    "#---------------------------Upload TELEMETRY to Backup Table---------------------------\n",
    "df=utils.upload_data_to_backup(user,\"RT_TWB_OE_TELEMETRY\",\"RT_TWB_OE_TELEMETRY_BKP\",\"TELEMETRY\")\n",
    "\n",
    "#---------------------------Upload DNA to Backup Table---------------------------\n",
    "df=utils.upload_data_to_backup(user,\"RT_TWB_OE_DNA\",\"RT_TWB_OE_DNA_BKP\",\"DNA\")\n",
    "\n",
    "#---------------------------Upload EA DETAILS to Backup Table---------------------------\n",
    "df=utils.upload_data_to_backup(user,\"RT_TWB_EA_DETAILS\",\"RT_TWB_EA_DETAILS_BKP\",\"EA DETAILS\")\n",
    "\n",
    "#---------------------------Upload EA ELIGIBILITY to Backup Table---------------------------\n",
    "df=utils.upload_data_to_backup(user,\"RT_TWB_EA_ELIGIBILITY\",\"RT_TWB_EA_ELIGIBILITY_BKP\",\"EA ELIGIBILITY\")\n",
    "\n",
    "#---------------------------Upload OP INTAKE to Backup Table---------------------------\n",
    "df=utils.upload_data_to_backup(user,\"RT_OP_INTAKE_REQUEST_DETAILS\",\"RT_OP_INTAKE_REQUEST_DETAILS_BKP\",\"OP INTAKE REQUEST DETAILS\")"
   ]
  },
  {
   "cell_type": "code",
   "execution_count": null,
   "metadata": {},
   "outputs": [],
   "source": [
    "#Optional\n",
    "importlib.reload(utils)\n",
    "#pd.options.display.max_columns=99 #To see more columns in the dataframes"
   ]
  }
 ],
 "metadata": {
  "kernelspec": {
   "display_name": "Python 3.8.8 ('base')",
   "language": "python",
   "name": "python3"
  },
  "language_info": {
   "codemirror_mode": {
    "name": "ipython",
    "version": 3
   },
   "file_extension": ".py",
   "mimetype": "text/x-python",
   "name": "python",
   "nbconvert_exporter": "python",
   "pygments_lexer": "ipython3",
   "version": "3.8.8"
  },
  "orig_nbformat": 4,
  "vscode": {
   "interpreter": {
    "hash": "0c7d1434458857b3186fd69b3970d5e6c9bb1c26478ff555e6f45b0212dba312"
   }
  }
 },
 "nbformat": 4,
 "nbformat_minor": 2
}
